{
 "cells": [
  {
   "cell_type": "code",
   "execution_count": 55,
   "id": "f50b7ffa",
   "metadata": {},
   "outputs": [],
   "source": [
    "import os\n",
    "import json\n",
    "import re"
   ]
  },
  {
   "cell_type": "code",
   "execution_count": 56,
   "id": "e4a382c8",
   "metadata": {},
   "outputs": [],
   "source": [
    "data_dir = './data'\n",
    "output_dir = os.path.join(data_dir,'outputs')\n",
    "reports_dir = os.path.join(data_dir,'reports')\n",
    "\n"
   ]
  },
  {
   "cell_type": "code",
   "execution_count": 57,
   "id": "34ff08dc",
   "metadata": {},
   "outputs": [
    {
     "data": {
      "text/plain": [
       "['200.19.182.102.txt',\n",
       " '200.19.182.106.txt',\n",
       " '200.19.182.110.txt',\n",
       " 'memoria.ufc.br.txt',\n",
       " 'sadin.ufc.br.txt',\n",
       " 'sistemas.prograd.ufc.br.txt']"
      ]
     },
     "execution_count": 57,
     "metadata": {},
     "output_type": "execute_result"
    }
   ],
   "source": [
    "os.listdir(reports_dir)"
   ]
  },
  {
   "cell_type": "code",
   "execution_count": 58,
   "id": "f8fdda71",
   "metadata": {},
   "outputs": [
    {
     "name": "stdout",
     "output_type": "stream",
     "text": [
      "./data\\reports\\200.19.182.106.txt\n"
     ]
    }
   ],
   "source": [
    "target_file = os.path.join(reports_dir, os.listdir(reports_dir)[1])\n",
    "with open(target_file, 'r',encoding = 'utf-8') as file:\n",
    "    content = file.read()  # Read the entire content of the file\n",
    "    print(target_file)         # Print the content"
   ]
  },
  {
   "cell_type": "code",
   "execution_count": 59,
   "id": "5630194a",
   "metadata": {},
   "outputs": [
    {
     "name": "stdout",
     "output_type": "stream",
     "text": [
      "\n",
      "\n",
      "#1 Exposição de Tecnologias Sensíveis\n",
      "\n",
      "- Descrição: O servidor está usando Microsoft-IIS/10.0 e está configurado com o cabeçalho `X-Powered-By: ASP.NET`. Essas informações podem ser usadas por atacantes para explorar vulnerabilidades conhecidas (Exploits).\n",
      "\n",
      "- Impacto: A exposição de informações sobre o servidor e a tecnologia facilita ataques direcionados, como exploração de vulnerabilidades específicas do IIS ou ASP.NET.\n",
      "\n",
      "- Mitigação:\n",
      "  - Remover ou mascarar os cabeçalhos `Server` e `X-Powered-By`.\n",
      "  - Utilizar técnicas de banner grabbing mitigation para evitar a detecção do software do servidor.\n",
      "\n",
      "- OWASP Top 10: A05:2021 - Security Misconfiguration\n",
      "\n",
      "\n",
      "#2 Falta de Segurança nos Cookies\n",
      "\n",
      "- Descrição: Nenhuma menção a cookies seguros (`Secure`, `HttpOnly`, `SameSite`) foi detectada no relatório.\n",
      "\n",
      "- Impacto: Cookies inseguros podem ser capturados em conexões não criptografadas ou explorados em ataques como Cross-Site Scripting (XSS).\n",
      "\n",
      "- Mitigação:\n",
      "  - Configurar cookies com as flags `Secure`, `HttpOnly` e `SameSite`.\n",
      "\n",
      "- OWASP Top 10: A02:2021 - Cryptographic Failures\n",
      "\n",
      "\n",
      "#3 Certificado SSL\n",
      "\n",
      "- Descrição: O certificado SSL está configurado corretamente, com validade até 30 de dezembro de 2025, mas o servidor não suporta HSTS (HTTP Strict Transport Security).\n",
      "  \n",
      "- Impacto: Sem HSTS, o site pode estar vulnerável a ataques de downgrade, como SSL Strip, que forçam o uso de conexões HTTP inseguras.\n",
      "\n",
      "- Mitigação:\n",
      "  - Configurar o cabeçalho `Strict-Transport-Security` para forçar conexões HTTPS.\n",
      "  - Garantir suporte a protocolos modernos de criptografia.\n",
      "\n",
      "- OWASP Top 10: A02:2021 - Cryptographic Failures\n",
      "\n",
      "\n",
      "#4 Possível Falha no Charset\n",
      "\n",
      "- Descrição: O charset da página está configurado como `ISO-8859-1`, mas há evidências de problemas com caracteres especiais, como \"PR-REITORIA DE GRADUAO\".\n",
      "\n",
      "- Impacto: A incompatibilidade de codificação pode prejudicar a experiência do usuário e indicar falhas de configuração no servidor.\n",
      "\n",
      "- Mitigação:\n",
      "  - Configurar o charset para `UTF-8` no cabeçalho HTTP e no HTML.\n",
      "  - Verificar a consistência dos arquivos do sistema com a codificação esperada.\n",
      "\n",
      "- OWASP Top 10: A05:2021 - Security Misconfiguration\n",
      "\n",
      "\n",
      "#5 Falta de Detecção em Diretórios Sensíveis\n",
      "\n",
      "- Descrição: A varredura de diretórios não identificou pastas ou endpoints adicionais (nenhum diretório listado no Gobuster). Isso pode significar: Diretórios escondidos por mecanismos de segurança. Ausência de mapeamento adequado para o escopo de testes.\n",
      "  \n",
      "- Impacto: Diretórios sensíveis podem estar acessíveis caso não estejam protegidos adequadamente.\n",
      "\n",
      "- Mitigação:\n",
      "  - Revisar configurações de segurança no servidor para garantir que pastas não autorizadas estejam protegidas.\n",
      "  - Utilizar ferramentas como Burp Suite ou DirBuster para uma análise mais profunda.\n",
      "\n",
      "- OWASP Top 10: A05:2021 - Security Misconfiguration\n",
      "\n",
      "\n",
      "#6 Configurações de Portas de Rede\n",
      "\n",
      "- Descrição: As portas 80 (HTTP) e 443 (HTTPS) estão abertas e configuradas para o servidor IIS. A porta 80 (HTTP) deve redirecionar automaticamente para HTTPS.\n",
      "  \n",
      "- Impacto: O uso de HTTP pode expor conexões inseguras, facilitando ataques de interceptação.\n",
      "\n",
      "- Mitigação:\n",
      "  - Configurar redirecionamento automático de HTTP para HTTPS em todas as solicitações.\n",
      "  - Monitorar regularmente as portas abertas e verificar por serviços desnecessários.\n",
      "\n",
      "- OWASP Top 10: A02:2021 - Cryptographic Failures\n",
      "\n",
      "\n",
      "#7 Logs e DNS Reverso\n",
      "\n",
      "- Descrição: Foram encontrados diversos subdomínios no DNS reverso, como: `s98.prograd.ufc.br`, `s99.prograd.ufc.br`, `s102.prograd.ufc.br`, entre outros.\n",
      "  \n",
      "- Impacto: Subdomínios expostos podem indicar pontos adicionais para exploração, especialmente se não forem devidamente protegidos.\n",
      "\n",
      "- Mitigação:\n",
      "  - Realizar auditorias em subdomínios detectados.\n",
      "  - Implementar regras de segurança específicas em cada subdomínio.\n",
      "\n",
      "- OWASP Top 10: A05:2021 - Security Misconfiguration\n",
      "\n",
      "\n",
      "#8 Falta de Mecanismos de Defesa Adicionais\n",
      "\n",
      "- Descrição: Não há menções a: Firewalls de aplicação web (WAF) ou mecanismos de proteção contra ataques como CSRF e XSS.\n",
      "  \n",
      "- Impacto: Ataques de injeção e manipulação de requisições podem comprometer o servidor e os dados.\n",
      "\n",
      "- Mitigação:\n",
      "  - Adicionar WAF para filtrar tráfego malicioso.\n",
      "  - Implementar validação de entrada e proteção contra XSS em todas as entradas do usuário.\n",
      "\n",
      "- OWASP Top 10: A03:2021 - Injection\n",
      "\n",
      "\n",
      "\n",
      "\n"
     ]
    }
   ],
   "source": [
    "vulnerabilities = report.split('potenciais vulnerabilidades:')[1].split('Ações Prioritárias')[0]\n",
    "print(vulnerabilities)"
   ]
  },
  {
   "cell_type": "code",
   "execution_count": 60,
   "id": "4e226e65",
   "metadata": {},
   "outputs": [
    {
     "data": {
      "text/plain": [
       "['Exposição de Tecnologias Sensíveis\\n\\n- Descrição: O servidor está usando Microsoft-IIS/10.0 e está configurado com o cabeçalho `X-Powered-By: ASP.NET`. Essas informações podem ser usadas por atacantes para explorar vulnerabilidades conhecidas (Exploits).\\n\\n- Impacto: A exposição de informações sobre o servidor e a tecnologia facilita ataques direcionados, como exploração de vulnerabilidades específicas do IIS ou ASP.NET.\\n\\n- Mitigação:\\n  - Remover ou mascarar os cabeçalhos `Server` e `X-Powered-By`.\\n  - Utilizar técnicas de banner grabbing mitigation para evitar a detecção do software do servidor.\\n\\n- OWASP Top 10: A05:2021 - Security Misconfiguration\\n\\n\\n',\n",
       " 'Falta de Segurança nos Cookies\\n\\n- Descrição: Nenhuma menção a cookies seguros (`Secure`, `HttpOnly`, `SameSite`) foi detectada no relatório.\\n\\n- Impacto: Cookies inseguros podem ser capturados em conexões não criptografadas ou explorados em ataques como Cross-Site Scripting (XSS).\\n\\n- Mitigação:\\n  - Configurar cookies com as flags `Secure`, `HttpOnly` e `SameSite`.\\n\\n- OWASP Top 10: A02:2021 - Cryptographic Failures\\n\\n\\n',\n",
       " 'Certificado SSL\\n\\n- Descrição: O certificado SSL está configurado corretamente, com validade até 30 de dezembro de 2025, mas o servidor não suporta HSTS (HTTP Strict Transport Security).\\n  \\n- Impacto: Sem HSTS, o site pode estar vulnerável a ataques de downgrade, como SSL Strip, que forçam o uso de conexões HTTP inseguras.\\n\\n- Mitigação:\\n  - Configurar o cabeçalho `Strict-Transport-Security` para forçar conexões HTTPS.\\n  - Garantir suporte a protocolos modernos de criptografia.\\n\\n- OWASP Top 10: A02:2021 - Cryptographic Failures\\n\\n\\n',\n",
       " 'Possível Falha no Charset\\n\\n- Descrição: O charset da página está configurado como `ISO-8859-1`, mas há evidências de problemas com caracteres especiais, como \"PR-REITORIA DE GRADUAO\".\\n\\n- Impacto: A incompatibilidade de codificação pode prejudicar a experiência do usuário e indicar falhas de configuração no servidor.\\n\\n- Mitigação:\\n  - Configurar o charset para `UTF-8` no cabeçalho HTTP e no HTML.\\n  - Verificar a consistência dos arquivos do sistema com a codificação esperada.\\n\\n- OWASP Top 10: A05:2021 - Security Misconfiguration\\n\\n\\n',\n",
       " 'Falta de Detecção em Diretórios Sensíveis\\n\\n- Descrição: A varredura de diretórios não identificou pastas ou endpoints adicionais (nenhum diretório listado no Gobuster). Isso pode significar: Diretórios escondidos por mecanismos de segurança. Ausência de mapeamento adequado para o escopo de testes.\\n  \\n- Impacto: Diretórios sensíveis podem estar acessíveis caso não estejam protegidos adequadamente.\\n\\n- Mitigação:\\n  - Revisar configurações de segurança no servidor para garantir que pastas não autorizadas estejam protegidas.\\n  - Utilizar ferramentas como Burp Suite ou DirBuster para uma análise mais profunda.\\n\\n- OWASP Top 10: A05:2021 - Security Misconfiguration\\n\\n\\n',\n",
       " 'Configurações de Portas de Rede\\n\\n- Descrição: As portas 80 (HTTP) e 443 (HTTPS) estão abertas e configuradas para o servidor IIS. A porta 80 (HTTP) deve redirecionar automaticamente para HTTPS.\\n  \\n- Impacto: O uso de HTTP pode expor conexões inseguras, facilitando ataques de interceptação.\\n\\n- Mitigação:\\n  - Configurar redirecionamento automático de HTTP para HTTPS em todas as solicitações.\\n  - Monitorar regularmente as portas abertas e verificar por serviços desnecessários.\\n\\n- OWASP Top 10: A02:2021 - Cryptographic Failures\\n\\n\\n',\n",
       " 'Logs e DNS Reverso\\n\\n- Descrição: Foram encontrados diversos subdomínios no DNS reverso, como: `s98.prograd.ufc.br`, `s99.prograd.ufc.br`, `s102.prograd.ufc.br`, entre outros.\\n  \\n- Impacto: Subdomínios expostos podem indicar pontos adicionais para exploração, especialmente se não forem devidamente protegidos.\\n\\n- Mitigação:\\n  - Realizar auditorias em subdomínios detectados.\\n  - Implementar regras de segurança específicas em cada subdomínio.\\n\\n- OWASP Top 10: A05:2021 - Security Misconfiguration\\n\\n\\n',\n",
       " 'Falta de Mecanismos de Defesa Adicionais\\n\\n- Descrição: Não há menções a: Firewalls de aplicação web (WAF) ou mecanismos de proteção contra ataques como CSRF e XSS.\\n  \\n- Impacto: Ataques de injeção e manipulação de requisições podem comprometer o servidor e os dados.\\n\\n- Mitigação:\\n  - Adicionar WAF para filtrar tráfego malicioso.\\n  - Implementar validação de entrada e proteção contra XSS em todas as entradas do usuário.\\n\\n- OWASP Top 10: A03:2021 - Injection\\n\\n\\n\\n']"
      ]
     },
     "execution_count": 60,
     "metadata": {},
     "output_type": "execute_result"
    }
   ],
   "source": [
    "pattern = r\"#\\d+\\s\"\n",
    "vulnerabilities_list = re.split(pattern,vulnerabilities)[1:]\n",
    "vulnerabilities_list"
   ]
  },
  {
   "cell_type": "code",
   "execution_count": 61,
   "id": "76aec5f6",
   "metadata": {},
   "outputs": [
    {
     "name": "stdout",
     "output_type": "stream",
     "text": [
      " name: Exposição de Tecnologias Sensíveis\n",
      " description: O servidor está usando Microsoft-IIS/10.0 e está configurado com o cabeçalho `X-Powered-By: ASP.NET`. Essas informações podem ser usadas por atacantes para explorar vulnerabilidades conhecidas (Exploits). impacto: A exposição de informações sobre o servidor e a tecnologia facilita ataques direcionados, como exploração de vulnerabilidades específicas do IIS ou ASP.NET. \n",
      " mitigação: - Remover ou mascarar os cabeçalhos `Server` e `X-Powered-By`.\n",
      "  - Utilizar técnicas de banner grabbing mitigation para evitar a detecção do software do servidor.\n",
      "\n",
      "- \n",
      " owasp: A05:2021 - Security Misconfiguration\n",
      "\n",
      "\n",
      "----------------------------------\n",
      "\n",
      "\n",
      " name: Falta de Segurança nos Cookies\n",
      " description: Nenhuma menção a cookies seguros (`Secure`, `HttpOnly`, `SameSite`) foi detectada no relatório. impacto: Cookies inseguros podem ser capturados em conexões não criptografadas ou explorados em ataques como Cross-Site Scripting (XSS). \n",
      " mitigação: - Configurar cookies com as flags `Secure`, `HttpOnly` e `SameSite`.\n",
      "\n",
      "- \n",
      " owasp: A02:2021 - Cryptographic Failures\n",
      "\n",
      "\n",
      "----------------------------------\n",
      "\n",
      "\n",
      " name: Certificado SSL\n",
      " description: O certificado SSL está configurado corretamente, com validade até 30 de dezembro de 2025, mas o servidor não suporta HSTS (HTTP Strict Transport Security). impacto: Sem HSTS, o site pode estar vulnerável a ataques de downgrade, como SSL Strip, que forçam o uso de conexões HTTP inseguras. \n",
      " mitigação: - Configurar o cabeçalho `Strict-Transport-Security` para forçar conexões HTTPS.\n",
      "  - Garantir suporte a protocolos modernos de criptografia.\n",
      "\n",
      "- \n",
      " owasp: A02:2021 - Cryptographic Failures\n",
      "\n",
      "\n",
      "----------------------------------\n",
      "\n",
      "\n",
      " name: Possível Falha no Charset\n",
      " description: O charset da página está configurado como `ISO-8859-1`, mas há evidências de problemas com caracteres especiais, como \"PR-REITORIA DE GRADUAO\". impacto: A incompatibilidade de codificação pode prejudicar a experiência do usuário e indicar falhas de configuração no servidor. \n",
      " mitigação: - Configurar o charset para `UTF-8` no cabeçalho HTTP e no HTML.\n",
      "  - Verificar a consistência dos arquivos do sistema com a codificação esperada.\n",
      "\n",
      "- \n",
      " owasp: A05:2021 - Security Misconfiguration\n",
      "\n",
      "\n",
      "----------------------------------\n",
      "\n",
      "\n",
      " name: Falta de Detecção em Diretórios Sensíveis\n",
      " description: A varredura de diretórios não identificou pastas ou endpoints adicionais (nenhum diretório listado no Gobuster). Isso pode significar: Diretórios escondidos por mecanismos de segurança. Ausência de mapeamento adequado para o escopo de testes. impacto: Diretórios sensíveis podem estar acessíveis caso não estejam protegidos adequadamente. \n",
      " mitigação: - Revisar configurações de segurança no servidor para garantir que pastas não autorizadas estejam protegidas.\n",
      "  - Utilizar ferramentas como Burp Suite ou DirBuster para uma análise mais profunda.\n",
      "\n",
      "- \n",
      " owasp: A05:2021 - Security Misconfiguration\n",
      "\n",
      "\n",
      "----------------------------------\n",
      "\n",
      "\n",
      " name: Configurações de Portas de Rede\n",
      " description: As portas 80 (HTTP) e 443 (HTTPS) estão abertas e configuradas para o servidor IIS. A porta 80 (HTTP) deve redirecionar automaticamente para HTTPS. impacto: O uso de HTTP pode expor conexões inseguras, facilitando ataques de interceptação. \n",
      " mitigação: - Configurar redirecionamento automático de HTTP para HTTPS em todas as solicitações.\n",
      "  - Monitorar regularmente as portas abertas e verificar por serviços desnecessários.\n",
      "\n",
      "- \n",
      " owasp: A02:2021 - Cryptographic Failures\n",
      "\n",
      "\n",
      "----------------------------------\n",
      "\n",
      "\n",
      " name: Logs e DNS Reverso\n",
      " description: Foram encontrados diversos subdomínios no DNS reverso, como: `s98.prograd.ufc.br`, `s99.prograd.ufc.br`, `s102.prograd.ufc.br`, entre outros. impacto: Subdomínios expostos podem indicar pontos adicionais para exploração, especialmente se não forem devidamente protegidos. \n",
      " mitigação: - Realizar auditorias em subdomínios detectados.\n",
      "  - Implementar regras de segurança específicas em cada subdomínio.\n",
      "\n",
      "- \n",
      " owasp: A05:2021 - Security Misconfiguration\n",
      "\n",
      "\n",
      "----------------------------------\n",
      "\n",
      "\n",
      " name: Falta de Mecanismos de Defesa Adicionais\n",
      " description: Não há menções a: Firewalls de aplicação web (WAF) ou mecanismos de proteção contra ataques como CSRF e XSS. impacto: Ataques de injeção e manipulação de requisições podem comprometer o servidor e os dados. \n",
      " mitigação: - Adicionar WAF para filtrar tráfego malicioso.\n",
      "  - Implementar validação de entrada e proteção contra XSS em todas as entradas do usuário.\n",
      "\n",
      "- \n",
      " owasp: A03:2021 - Injection\n",
      "\n",
      "\n",
      "----------------------------------\n",
      "\n",
      "\n"
     ]
    }
   ],
   "source": [
    "for v in vulnerabilities_list:\n",
    "    name = v.split('\\n')[0].strip()\n",
    "    description = v.split('Descrição:')[1].split('\\n')[0].strip()\n",
    "    impact = v.split('Impacto:')[1].split('\\n')[0].strip()\n",
    "    mitigation = v.split('Mitigação:')[1].split('OWASP Top 10: ')[0].strip()\n",
    "    owasp = v.split('OWASP Top 10:')[1].split('\\n')[0].strip()\n",
    "    print(f' name: {name}\\n description: {description} impacto: {impact} \\n mitigação: {mitigation} \\n owasp: {owasp}')\n",
    "    print('\\n\\n----------------------------------\\n\\n')"
   ]
  },
  {
   "cell_type": "code",
   "execution_count": 62,
   "id": "d4cd2442",
   "metadata": {},
   "outputs": [
    {
     "data": {
      "text/plain": [
       "['Falta de Mecanismos de Defesa Adicionais\\n\\n- ',\n",
       " ' Não há menções a: Firewalls de aplicação web (WAF) ou mecanismos de proteção contra ataques como CSRF e XSS.\\n  \\n- Impacto: Ataques de injeção e manipulação de requisições podem comprometer o servidor e os dados.\\n\\n- Mitigação:\\n  - Adicionar WAF para filtrar tráfego malicioso.\\n  - Implementar validação de entrada e proteção contra XSS em todas as entradas do usuário.\\n\\n- OWASP Top 10: A03:2021 - Injection\\n\\n\\n\\n']"
      ]
     },
     "execution_count": 62,
     "metadata": {},
     "output_type": "execute_result"
    }
   ],
   "source": [
    "v.split('Descrição:')"
   ]
  },
  {
   "cell_type": "code",
   "execution_count": 63,
   "id": "0986ca54",
   "metadata": {},
   "outputs": [
    {
     "data": {
      "text/plain": [
       "'- Adicionar WAF para filtrar tráfego malicioso.\\n  - Implementar validação de entrada e proteção contra XSS em todas as entradas do usuário.\\n\\n-'"
      ]
     },
     "execution_count": 63,
     "metadata": {},
     "output_type": "execute_result"
    }
   ],
   "source": [
    "mitigation"
   ]
  },
  {
   "cell_type": "code",
   "execution_count": 64,
   "id": "fba81cae",
   "metadata": {},
   "outputs": [
    {
     "data": {
      "text/plain": [
       "['Ocultar Informações de Versão e Tecnologia: Configurar o servidor para não expor informações sensíveis nos cabeçalhos HTTP, como o `Server` (que revela a versão do IIS) e o `X-Powered-By` (que revela o uso de ASP.NET).   ',\n",
       " 'Remover ou Substituir a Página de Boas-Vindas Padrão do IIS por uma página personalizada ou por um arquivo de erro genérico, sem informações sobre o servidor.',\n",
       " 'Corrigir o Erro 500 no Diretório `/helpdesk`: Investigar e corrigir os erros internos no diretório `/helpdesk`, que estão gerando erros 500.  ',\n",
       " 'Aplicar Cabeçalhos de Segurança HTTP: Configurar e aplicar cabeçalhos de segurança recomendados, como:     - Strict-Transport-Security (HSTS) para forçar conexões seguras.     - X-Content-Type-Options para evitar a execução de conteúdo com tipos incorretos.     - X-Frame-Options para evitar ataques de clickjacking.     - Content-Security-Policy (CSP) para evitar XSS e injeção de conteúdo malicioso.',\n",
       " 'Revisar Configuração e Tratamento de Erros no Servidor: Implementar um sistema robusto de tratamento de erros para evitar a exposição de detalhes sensíveis em mensagens de erro, como o erro 500.xplorar o sistema.',\n",
       " 'Reduzir a Exposição de Subdomínios: Minimizar a exposição de subdomínios através de medidas como segregação de redes, controle de acesso e revisão das configurações de DNS para evitar que informações sobre subdomínios internos sejam vazadas.   ',\n",
       " 'Realizar Atualizações Regulares de Sistema e Aplicativos: Garantir que todos os sistemas e aplicativos (incluindo IIS e ASP.NET) estejam atualizados para suas versões mais recentes e seguras.']"
      ]
     },
     "execution_count": 64,
     "metadata": {},
     "output_type": "execute_result"
    }
   ],
   "source": [
    "actions = content.split('Ações Prioritárias')[1:]\n",
    "actions = ' '.join(actions)\n",
    "actions = re.split(pattern,actions)[1:]\n",
    "actions = [a.replace('\\n','') for a in actions]\n",
    "actions"
   ]
  },
  {
   "cell_type": "code",
   "execution_count": 81,
   "id": "f0f74814",
   "metadata": {},
   "outputs": [],
   "source": [
    "def get_vulnerabilities(content):\n",
    "    vulnerabilities_formated = []\n",
    "    vulnerabilities_text = content.split('potenciais vulnerabilidades')[1].split('Ações Prioritárias')[0]\n",
    "    pattern = r\"#\\d+\\s\"\n",
    "    vulnerabilities_list = re.split(pattern, vulnerabilities_text)[1:]\n",
    "    for v in vulnerabilities_list:\n",
    "        name = v.split('\\n')[0].strip()\n",
    "        description = v.split('Descrição:')[1].split('\\n')[0].strip()\n",
    "        impact = v.split('Impacto:')[1].split('Mitigação:')[0].strip()\n",
    "        impact = impact.split('- ')\n",
    "        impact = [m.strip().replace('\\n','').replace('.-','.') for m in impact]\n",
    "        mitigation = v.split('Mitigação:')[1].split('OWASP Top 10:')[0].strip()\n",
    "        mitigation = mitigation.split('- ')[1:]\n",
    "        mitigation = [m.strip().replace('\\n','').replace('.-','.') for m in mitigation]\n",
    "        owasp = v.split('OWASP Top 10:')[1].split('\\n')[0].strip()\n",
    "        vulnerability_dict = {'nome':name, 'descrição':description, 'impacto': \n",
    "                              impact, 'mitigação': mitigation, 'owasp_top_10': owasp}\n",
    "        vulnerabilities_formated.append(vulnerability_dict)\n",
    "    return vulnerabilities_formated\n",
    "\n",
    "def get_actions(content):\n",
    "    actions = content.split('Ações Prioritárias')[1:]\n",
    "    actions = ' '.join(actions)\n",
    "    pattern = r\"#\\d+\\s\"\n",
    "    actions = re.split(pattern,actions)[1:]\n",
    "    actions = [a.replace('\\n','') for a in actions]\n",
    "    return actions\n"
   ]
  },
  {
   "cell_type": "code",
   "execution_count": 82,
   "id": "10926374",
   "metadata": {},
   "outputs": [
    {
     "name": "stdout",
     "output_type": "stream",
     "text": [
      "200.19.182.102.txt\n",
      "200.19.182.106.txt\n",
      "200.19.182.110.txt\n",
      "memoria.ufc.br.txt\n",
      "sadin.ufc.br.txt\n",
      "sistemas.prograd.ufc.br.txt\n"
     ]
    }
   ],
   "source": [
    "dataset = {}\n",
    "for target in os.listdir(reports_dir):\n",
    "    print(target)\n",
    "    output_file = os.path.join(output_dir,target)\n",
    "    report_file = os.path.join(reports_dir,target)\n",
    "    \n",
    "    # read output\n",
    "    with open(output_file, 'r',encoding = 'utf-8') as file:\n",
    "        output = file.read()  # Read the entire content of the file\n",
    "    # read report\n",
    "    with open(report_file, 'r',encoding = 'utf-8') as file:\n",
    "        report = file.read()  # Read the entire content of the file\n",
    "        \n",
    "    dataset[target] = {}\n",
    "    dataset[target]['ações_prioritárias'] = get_actions(report)\n",
    "    dataset[target]['vulnerabilidades'] = get_vulnerabilities(report)\n",
    "    dataset[target]['exkalibur_output'] = output\n",
    "    \n"
   ]
  },
  {
   "cell_type": "code",
   "execution_count": 83,
   "id": "4892644d",
   "metadata": {},
   "outputs": [],
   "source": [
    "output_json_file = \"dataset.json\"\n",
    "\n",
    "with open(output_json_file, 'w', encoding='utf-8') as json_file:\n",
    "    json.dump(dataset, json_file, ensure_ascii=False, indent=4)"
   ]
  },
  {
   "cell_type": "code",
   "execution_count": null,
   "id": "3af3eea4",
   "metadata": {},
   "outputs": [],
   "source": []
  },
  {
   "cell_type": "code",
   "execution_count": null,
   "id": "717998f7",
   "metadata": {},
   "outputs": [],
   "source": []
  }
 ],
 "metadata": {
  "kernelspec": {
   "display_name": "Python 3 (ipykernel)",
   "language": "python",
   "name": "python3"
  },
  "language_info": {
   "codemirror_mode": {
    "name": "ipython",
    "version": 3
   },
   "file_extension": ".py",
   "mimetype": "text/x-python",
   "name": "python",
   "nbconvert_exporter": "python",
   "pygments_lexer": "ipython3",
   "version": "3.9.12"
  }
 },
 "nbformat": 4,
 "nbformat_minor": 5
}
