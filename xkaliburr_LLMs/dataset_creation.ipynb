{
 "cells": [
  {
   "cell_type": "code",
   "execution_count": 5,
   "id": "f50b7ffa",
   "metadata": {},
   "outputs": [],
   "source": [
    "import os\n",
    "import json\n",
    "import re"
   ]
  },
  {
   "cell_type": "code",
   "execution_count": 6,
   "id": "e4a382c8",
   "metadata": {},
   "outputs": [],
   "source": [
    "data_dir = './data'\n",
    "output_dir = os.path.join(data_dir,'outputs')\n",
    "reports_dir = os.path.join(data_dir,'reports')\n",
    "\n"
   ]
  },
  {
   "cell_type": "code",
   "execution_count": 7,
   "id": "34ff08dc",
   "metadata": {},
   "outputs": [
    {
     "data": {
      "text/plain": [
       "['200.19.182.102.txt',\n",
       " '200.19.182.106.txt',\n",
       " '200.19.182.110.txt',\n",
       " 'bdsrh.npd.ufc.br.txt',\n",
       " 'cafe-eid.ufc.br.txt',\n",
       " 'cafe-idp.ufc.br.txt',\n",
       " 'dante.ufc.br.txt',\n",
       " 'memoria.ufc.br.txt',\n",
       " 'proxy.ufc.br.txt',\n",
       " 'sadin.ufc.br.txt',\n",
       " 'servicos.sti.ufc.br.txt',\n",
       " 'si3.ufc.br.txt',\n",
       " 'sistemas.prograd.ufc.br.txt',\n",
       " 'www2.ufc.br.txt']"
      ]
     },
     "execution_count": 7,
     "metadata": {},
     "output_type": "execute_result"
    }
   ],
   "source": [
    "os.listdir(reports_dir)"
   ]
  },
  {
   "cell_type": "code",
   "execution_count": 9,
   "id": "f8fdda71",
   "metadata": {},
   "outputs": [
    {
     "name": "stdout",
     "output_type": "stream",
     "text": [
      "./data\\reports\\200.19.182.106.txt\n"
     ]
    }
   ],
   "source": [
    "target_file = os.path.join(reports_dir, os.listdir(reports_dir)[1])\n",
    "with open(target_file, 'r',encoding = 'utf-8') as file:\n",
    "    content = file.read()  # Read the entire content of the file\n",
    "    print(target_file)         # Print the content"
   ]
  },
  {
   "cell_type": "code",
   "execution_count": 10,
   "id": "5630194a",
   "metadata": {},
   "outputs": [
    {
     "name": "stdout",
     "output_type": "stream",
     "text": [
      "\n",
      "\n",
      "#1 Exposição de Informações do Servidor (Microsoft-IIS/10.0 e ASP.NET)\n",
      "\n",
      "- Descrição: O servidor revela informações detalhadas sobre a tecnologia utilizada, como a versão do Microsoft-IIS/10.0 e o uso do ASP.NET nos cabeçalhos HTTP (`X-Powered-By`).\n",
      "\n",
      "- Impacto: A exposição dessas informações facilita ataques direcionados, como exploração de vulnerabilidades conhecidas nas versões do IIS ou ASP.NET, especialmente se não forem atualizadas.\n",
      "\n",
      "- Mitigação: \n",
      "  - Desabilitar ou ocultar informações de versão nos cabeçalhos HTTP (`X-Powered-By`, `Server`).\n",
      "  - Atualizar o IIS e ASP.NET para as versões mais recentes e seguras.\n",
      "  - Usar proxies reversos para filtrar e esconder essas informações.\n",
      "\n",
      "OWASP Top 10: A05:2021-Security Misconfiguration\n",
      "\n",
      "Severidade: 5.3 (Média) CVSS 3.0 AV:N/AC:L/PR:N/UI:N/S:U/C:L/I:N/A:N\n",
      "\n",
      "\n",
      "#2 Página de Boas-Vindas Padrão do IIS\n",
      "\n",
      "- Descrição: O servidor está utilizando a página padrão de boas-vindas do IIS, o que pode indicar falta de configuração ou um sistema que não foi devidamente personalizado.\n",
      "\n",
      "- Impacto: A página padrão pode revelar detalhes sobre a configuração do servidor, o que facilita ataques de reconhecimento e exploração de vulnerabilidades no servidor IIS.\n",
      "\n",
      "- Mitigação: \n",
      "  - Remover ou substituir a página de boas-vindas padrão do IIS por uma página customizada.\n",
      "  - Configurar corretamente o IIS para garantir que não sejam reveladas informações desnecessárias ao usuário final.\n",
      "\n",
      "OWASP Top 10: A05:2021-Security Misconfiguration\n",
      "\n",
      "Severidade: 5.3 (Média) CVSS 3.0 AV:N/AC:L/PR:N/UI:N/S:U/C:L/I:N/A:N\n",
      "\n",
      "\n",
      "#3 Erro 500 no Diretório `/helpdesk`\n",
      "\n",
      "- Descrição: O diretório `/helpdesk` retorna um erro 500 (Internal Server Error), sugerindo que há falhas de configuração ou problemas no código.\n",
      "\n",
      "- Impacto: Erros internos podem ser explorados para realizar ataques como execução remota de código ou injeção de comandos, especialmente se o diretório contiver scripts vulneráveis.\n",
      "\n",
      "- Mitigação:\n",
      "  - Revisar e corrigir o código e a configuração do diretório `/helpdesk`.\n",
      "  - Implementar uma estratégia de **tratamento de erros** para evitar a exposição de detalhes internos ao público.\n",
      "  - Garantir que a aplicação seja robusta contra injeção e outros tipos de ataques.\n",
      "\n",
      "OWASP Top 10: A01:2021-Broken Access Control\n",
      "\n",
      "Severidade: 7.5 (Alta) CVSS 3.0 AV:N/AC:L/PR:N/UI:N/S:U/C:H/I:H/A:N\n",
      "\n",
      "\n",
      "#4 Falta de Cabeçalhos de Segurança HTTP\n",
      "\n",
      "- Descrição: O servidor não está configurado para enviar cabeçalhos de segurança recomendados, como Strict-Transport-Security (HSTS), X-Content-Type-Options, X-Frame-Options e Content-Security-Policy (CSP).\n",
      "\n",
      "- Impacto: A falta desses cabeçalhos expõe o servidor a uma variedade de ataques, como man-in-the-middle (MITM), clickjacking e cross-site scripting (XSS).\n",
      "\n",
      "- Mitigação:\n",
      "  - Configurar e aplicar cabeçalhos de segurança apropriados:\n",
      "    - Strict-Transport-Security (HSTS): Para garantir conexões HTTPS.\n",
      "    - X-Content-Type-Options: Para evitar a execução de conteúdo de tipo incorreto.\n",
      "    - X-Frame-Options: Para proteger contra clickjacking.\n",
      "    - Content-Security-Policy (CSP): Para mitigar riscos de XSS e injeção de conteúdo malicioso.\n",
      "\n",
      "OWASP Top 10: A06:2021-Vulnerable and Outdated Components\n",
      "\n",
      "Severidade: 9.1 (Alta) CVSS 3.0 AV:N/AC:L/PR:N/UI:N/S:U/C:H/I:H/A:N\n",
      "\n",
      "\n",
      "#5 Exposição de Subdomínios\n",
      "\n",
      "- Descrição: A análise DNS revelou vários subdomínios dentro do domínio prograd.ufc.br, expondo informações sobre a estrutura interna da rede.\n",
      "\n",
      "- Impacto: A exposição de subdomínios pode ser explorada por atacantes para realizar ataques direcionados a outros serviços ou sistemas internos.\n",
      "\n",
      "- Mitigação:\n",
      "  - Utilizar técnicas de divulgação mínima para evitar expor subdomínios e endereços internos.\n",
      "  - Configurar o DNS de forma a não expor informações sensíveis e implementar listas negras de DNS para prevenir vazamentos.\n",
      "\n",
      "OWASP Top 10: A08:2021-Software and Data Integrity Failures\n",
      "\n",
      "Severidade: 5.3 (Média) CVSS 3.0 AV:N/AC:L/PR:N/UI:N/S:U/C:L/I:N/A:N\n",
      "\n",
      "\n",
      "\n",
      "\n"
     ]
    }
   ],
   "source": [
    "vulnerabilities = content.split('potenciais vulnerabilidades:')[1].split('Ações Prioritárias')[0]\n",
    "print(vulnerabilities)"
   ]
  },
  {
   "cell_type": "code",
   "execution_count": 11,
   "id": "4e226e65",
   "metadata": {},
   "outputs": [
    {
     "data": {
      "text/plain": [
       "['Exposição de Informações do Servidor (Microsoft-IIS/10.0 e ASP.NET)\\n\\n- Descrição: O servidor revela informações detalhadas sobre a tecnologia utilizada, como a versão do Microsoft-IIS/10.0 e o uso do ASP.NET nos cabeçalhos HTTP (`X-Powered-By`).\\n\\n- Impacto: A exposição dessas informações facilita ataques direcionados, como exploração de vulnerabilidades conhecidas nas versões do IIS ou ASP.NET, especialmente se não forem atualizadas.\\n\\n- Mitigação: \\n  - Desabilitar ou ocultar informações de versão nos cabeçalhos HTTP (`X-Powered-By`, `Server`).\\n  - Atualizar o IIS e ASP.NET para as versões mais recentes e seguras.\\n  - Usar proxies reversos para filtrar e esconder essas informações.\\n\\nOWASP Top 10: A05:2021-Security Misconfiguration\\n\\nSeveridade: 5.3 (Média) CVSS 3.0 AV:N/AC:L/PR:N/UI:N/S:U/C:L/I:N/A:N\\n\\n\\n',\n",
       " 'Página de Boas-Vindas Padrão do IIS\\n\\n- Descrição: O servidor está utilizando a página padrão de boas-vindas do IIS, o que pode indicar falta de configuração ou um sistema que não foi devidamente personalizado.\\n\\n- Impacto: A página padrão pode revelar detalhes sobre a configuração do servidor, o que facilita ataques de reconhecimento e exploração de vulnerabilidades no servidor IIS.\\n\\n- Mitigação: \\n  - Remover ou substituir a página de boas-vindas padrão do IIS por uma página customizada.\\n  - Configurar corretamente o IIS para garantir que não sejam reveladas informações desnecessárias ao usuário final.\\n\\nOWASP Top 10: A05:2021-Security Misconfiguration\\n\\nSeveridade: 5.3 (Média) CVSS 3.0 AV:N/AC:L/PR:N/UI:N/S:U/C:L/I:N/A:N\\n\\n\\n',\n",
       " 'Erro 500 no Diretório `/helpdesk`\\n\\n- Descrição: O diretório `/helpdesk` retorna um erro 500 (Internal Server Error), sugerindo que há falhas de configuração ou problemas no código.\\n\\n- Impacto: Erros internos podem ser explorados para realizar ataques como execução remota de código ou injeção de comandos, especialmente se o diretório contiver scripts vulneráveis.\\n\\n- Mitigação:\\n  - Revisar e corrigir o código e a configuração do diretório `/helpdesk`.\\n  - Implementar uma estratégia de **tratamento de erros** para evitar a exposição de detalhes internos ao público.\\n  - Garantir que a aplicação seja robusta contra injeção e outros tipos de ataques.\\n\\nOWASP Top 10: A01:2021-Broken Access Control\\n\\nSeveridade: 7.5 (Alta) CVSS 3.0 AV:N/AC:L/PR:N/UI:N/S:U/C:H/I:H/A:N\\n\\n\\n',\n",
       " 'Falta de Cabeçalhos de Segurança HTTP\\n\\n- Descrição: O servidor não está configurado para enviar cabeçalhos de segurança recomendados, como Strict-Transport-Security (HSTS), X-Content-Type-Options, X-Frame-Options e Content-Security-Policy (CSP).\\n\\n- Impacto: A falta desses cabeçalhos expõe o servidor a uma variedade de ataques, como man-in-the-middle (MITM), clickjacking e cross-site scripting (XSS).\\n\\n- Mitigação:\\n  - Configurar e aplicar cabeçalhos de segurança apropriados:\\n    - Strict-Transport-Security (HSTS): Para garantir conexões HTTPS.\\n    - X-Content-Type-Options: Para evitar a execução de conteúdo de tipo incorreto.\\n    - X-Frame-Options: Para proteger contra clickjacking.\\n    - Content-Security-Policy (CSP): Para mitigar riscos de XSS e injeção de conteúdo malicioso.\\n\\nOWASP Top 10: A06:2021-Vulnerable and Outdated Components\\n\\nSeveridade: 9.1 (Alta) CVSS 3.0 AV:N/AC:L/PR:N/UI:N/S:U/C:H/I:H/A:N\\n\\n\\n',\n",
       " 'Exposição de Subdomínios\\n\\n- Descrição: A análise DNS revelou vários subdomínios dentro do domínio prograd.ufc.br, expondo informações sobre a estrutura interna da rede.\\n\\n- Impacto: A exposição de subdomínios pode ser explorada por atacantes para realizar ataques direcionados a outros serviços ou sistemas internos.\\n\\n- Mitigação:\\n  - Utilizar técnicas de divulgação mínima para evitar expor subdomínios e endereços internos.\\n  - Configurar o DNS de forma a não expor informações sensíveis e implementar listas negras de DNS para prevenir vazamentos.\\n\\nOWASP Top 10: A08:2021-Software and Data Integrity Failures\\n\\nSeveridade: 5.3 (Média) CVSS 3.0 AV:N/AC:L/PR:N/UI:N/S:U/C:L/I:N/A:N\\n\\n\\n\\n']"
      ]
     },
     "execution_count": 11,
     "metadata": {},
     "output_type": "execute_result"
    }
   ],
   "source": [
    "pattern = r\"#\\d+\\s\"\n",
    "vulnerabilities_list = re.split(pattern,vulnerabilities)[1:]\n",
    "vulnerabilities_list"
   ]
  },
  {
   "cell_type": "code",
   "execution_count": 18,
   "id": "76aec5f6",
   "metadata": {},
   "outputs": [
    {
     "name": "stdout",
     "output_type": "stream",
     "text": [
      " name: Exposição de Informações do Servidor (Microsoft-IIS/10.0 e ASP.NET)\n",
      " description: O servidor revela informações detalhadas sobre a tecnologia utilizada, como a versão do Microsoft-IIS/10.0 e o uso do ASP.NET nos cabeçalhos HTTP (`X-Powered-By`). impacto: A exposição dessas informações facilita ataques direcionados, como exploração de vulnerabilidades conhecidas nas versões do IIS ou ASP.NET, especialmente se não forem atualizadas. \n",
      " mitigação: - Desabilitar ou ocultar informações de versão nos cabeçalhos HTTP (`X-Powered-By`, `Server`).\n",
      "  - Atualizar o IIS e ASP.NET para as versões mais recentes e seguras.\n",
      "  - Usar proxies reversos para filtrar e esconder essas informações. \n",
      " owasp: A05:2021-Security Misconfiguration \n",
      " severidade (5.3, 'Média')\n",
      "\n",
      "\n",
      "----------------------------------\n",
      "\n",
      "\n",
      " name: Página de Boas-Vindas Padrão do IIS\n",
      " description: O servidor está utilizando a página padrão de boas-vindas do IIS, o que pode indicar falta de configuração ou um sistema que não foi devidamente personalizado. impacto: A página padrão pode revelar detalhes sobre a configuração do servidor, o que facilita ataques de reconhecimento e exploração de vulnerabilidades no servidor IIS. \n",
      " mitigação: - Remover ou substituir a página de boas-vindas padrão do IIS por uma página customizada.\n",
      "  - Configurar corretamente o IIS para garantir que não sejam reveladas informações desnecessárias ao usuário final. \n",
      " owasp: A05:2021-Security Misconfiguration \n",
      " severidade (5.3, 'Média')\n",
      "\n",
      "\n",
      "----------------------------------\n",
      "\n",
      "\n",
      " name: Erro 500 no Diretório `/helpdesk`\n",
      " description: O diretório `/helpdesk` retorna um erro 500 (Internal Server Error), sugerindo que há falhas de configuração ou problemas no código. impacto: Erros internos podem ser explorados para realizar ataques como execução remota de código ou injeção de comandos, especialmente se o diretório contiver scripts vulneráveis. \n",
      " mitigação: - Revisar e corrigir o código e a configuração do diretório `/helpdesk`.\n",
      "  - Implementar uma estratégia de **tratamento de erros** para evitar a exposição de detalhes internos ao público.\n",
      "  - Garantir que a aplicação seja robusta contra injeção e outros tipos de ataques. \n",
      " owasp: A01:2021-Broken Access Control \n",
      " severidade (7.5, 'Alta')\n",
      "\n",
      "\n",
      "----------------------------------\n",
      "\n",
      "\n",
      " name: Falta de Cabeçalhos de Segurança HTTP\n",
      " description: O servidor não está configurado para enviar cabeçalhos de segurança recomendados, como Strict-Transport-Security (HSTS), X-Content-Type-Options, X-Frame-Options e Content-Security-Policy (CSP). impacto: A falta desses cabeçalhos expõe o servidor a uma variedade de ataques, como man-in-the-middle (MITM), clickjacking e cross-site scripting (XSS). \n",
      " mitigação: - Configurar e aplicar cabeçalhos de segurança apropriados:\n",
      "    - Strict-Transport-Security (HSTS): Para garantir conexões HTTPS.\n",
      "    - X-Content-Type-Options: Para evitar a execução de conteúdo de tipo incorreto.\n",
      "    - X-Frame-Options: Para proteger contra clickjacking.\n",
      "    - Content-Security-Policy (CSP): Para mitigar riscos de XSS e injeção de conteúdo malicioso. \n",
      " owasp: A06:2021-Vulnerable and Outdated Components \n",
      " severidade (9.1, 'Alta')\n",
      "\n",
      "\n",
      "----------------------------------\n",
      "\n",
      "\n",
      " name: Exposição de Subdomínios\n",
      " description: A análise DNS revelou vários subdomínios dentro do domínio prograd.ufc.br, expondo informações sobre a estrutura interna da rede. impacto: A exposição de subdomínios pode ser explorada por atacantes para realizar ataques direcionados a outros serviços ou sistemas internos. \n",
      " mitigação: - Utilizar técnicas de divulgação mínima para evitar expor subdomínios e endereços internos.\n",
      "  - Configurar o DNS de forma a não expor informações sensíveis e implementar listas negras de DNS para prevenir vazamentos. \n",
      " owasp: A08:2021-Software and Data Integrity Failures \n",
      " severidade (5.3, 'Média')\n",
      "\n",
      "\n",
      "----------------------------------\n",
      "\n",
      "\n"
     ]
    }
   ],
   "source": [
    "for v in vulnerabilities_list:\n",
    "    name = v.split('\\n')[0].strip()\n",
    "    description = v.split('Descrição:')[1].split('\\n')[0].strip()\n",
    "    impact = v.split('Impacto:')[1].split('\\n')[0].strip()\n",
    "    mitigation = v.split('Mitigação:')[1].split('OWASP Top 10: ')[0].strip()\n",
    "    owasp = v.split('OWASP Top 10:')[1].split('\\n')[0].strip()\n",
    "    severity = v.split('Severidade:')[1].split()\n",
    "    severity = (float(severity[0]),severity[1].replace('(','').replace(')',''))\n",
    "    print(f' name: {name}\\n description: {description} impacto: {impact} \\n mitigação: {mitigation} \\n owasp: {owasp} \\n severidade {severity}')\n",
    "    print('\\n\\n----------------------------------\\n\\n')"
   ]
  },
  {
   "cell_type": "code",
   "execution_count": 62,
   "id": "d4cd2442",
   "metadata": {},
   "outputs": [
    {
     "data": {
      "text/plain": [
       "['Falta de Mecanismos de Defesa Adicionais\\n\\n- ',\n",
       " ' Não há menções a: Firewalls de aplicação web (WAF) ou mecanismos de proteção contra ataques como CSRF e XSS.\\n  \\n- Impacto: Ataques de injeção e manipulação de requisições podem comprometer o servidor e os dados.\\n\\n- Mitigação:\\n  - Adicionar WAF para filtrar tráfego malicioso.\\n  - Implementar validação de entrada e proteção contra XSS em todas as entradas do usuário.\\n\\n- OWASP Top 10: A03:2021 - Injection\\n\\n\\n\\n']"
      ]
     },
     "execution_count": 62,
     "metadata": {},
     "output_type": "execute_result"
    }
   ],
   "source": [
    "v.split('Descrição:')"
   ]
  },
  {
   "cell_type": "code",
   "execution_count": 63,
   "id": "0986ca54",
   "metadata": {},
   "outputs": [
    {
     "data": {
      "text/plain": [
       "'- Adicionar WAF para filtrar tráfego malicioso.\\n  - Implementar validação de entrada e proteção contra XSS em todas as entradas do usuário.\\n\\n-'"
      ]
     },
     "execution_count": 63,
     "metadata": {},
     "output_type": "execute_result"
    }
   ],
   "source": [
    "mitigation"
   ]
  },
  {
   "cell_type": "code",
   "execution_count": 13,
   "id": "fba81cae",
   "metadata": {},
   "outputs": [
    {
     "data": {
      "text/plain": [
       "['Ocultar Informações de Versão e Tecnologia. Configurar o servidor para não expor informações sensíveis nos cabeçalhos HTTP, como o `Server` (que revela a versão do IIS) e o `X-Powered-By` (que revela o uso de ASP.NET).   ',\n",
       " 'Remover ou Substituir a Página de Boas-Vindas Padrão do IIS por uma página personalizada ou por um arquivo de erro genérico, sem informações sobre o servidor.',\n",
       " 'Corrigir o Erro 500 no Diretório `/helpdesk`. Investigar e corrigir os erros internos no diretório `/helpdesk`, que estão gerando erros 500.  ',\n",
       " 'Aplicar Cabeçalhos de Segurança HTTP: Configurar e aplicar cabeçalhos de segurança recomendados, como: Strict-Transport-Security (HSTS) para forçar conexões seguras; X-Content-Type-Options para evitar a execução de conteúdo com tipos incorretos; X-Frame-Options para evitar ataques de clickjacking; Content-Security-Policy (CSP) para evitar XSS e injeção de conteúdo malicioso.',\n",
       " 'Revisar Configuração e Tratamento de Erros no Servidor. Implementar um sistema robusto de tratamento de erros para evitar a exposição de detalhes sensíveis em mensagens de erro, como o erro 500.xplorar o sistema.',\n",
       " 'Reduzir a Exposição de Subdomínios. Minimizar a exposição de subdomínios através de medidas como segregação de redes, controle de acesso e revisão das configurações de DNS para evitar que informações sobre subdomínios internos sejam vazadas.   ',\n",
       " 'Realizar Atualizações Regulares de Sistema e Aplicativos. Garantir que todos os sistemas e aplicativos (incluindo IIS e ASP.NET) estejam atualizados para suas versões mais recentes e seguras.']"
      ]
     },
     "execution_count": 13,
     "metadata": {},
     "output_type": "execute_result"
    }
   ],
   "source": [
    "actions = content.split('Ações Prioritárias')[1:]\n",
    "actions = ' '.join(actions)\n",
    "actions = re.split(pattern,actions)[1:]\n",
    "actions = [a.replace('\\n','') for a in actions]\n",
    "actions"
   ]
  },
  {
   "cell_type": "code",
   "execution_count": 15,
   "id": "c875ced0",
   "metadata": {},
   "outputs": [
    {
     "data": {
      "text/plain": [
       "['Site: http://200.19.182.106/\\n\\npotenciais vulnerabilidades:\\n\\n#1 Exposição de Informações do Servidor (Microsoft-IIS/10.0 e ASP.NET)\\n\\n- Descrição: O servidor revela informações detalhadas sobre a tecnologia utilizada, como a versão do Microsoft-IIS/10.0 e o uso do ASP.NET nos cabeçalhos HTTP (`X-Powered-By`).\\n\\n- Impacto: A exposição dessas informações facilita ataques direcionados, como exploração de vulnerabilidades conhecidas nas versões do IIS ou ASP.NET, especialmente se não forem atualizadas.\\n\\n- Mitigação: \\n  - Desabilitar ou ocultar informações de versão nos cabeçalhos HTTP (`X-Powered-By`, `Server`).\\n  - Atualizar o IIS e ASP.NET para as versões mais recentes e seguras.\\n  - Usar proxies reversos para filtrar e esconder essas informações.\\n\\nOWASP Top 10: A05:2021-Security Misconfiguration\\n\\n',\n",
       " '5.3 (Média) CVSS 3.0 AV:N/AC:L/PR:N/UI:N/S:U/C:L/I:N/A:N\\n\\n\\n#2 Página de Boas-Vindas Padrão do IIS\\n\\n- Descrição: O servidor está utilizando a página padrão de boas-vindas do IIS, o que pode indicar falta de configuração ou um sistema que não foi devidamente personalizado.\\n\\n- Impacto: A página padrão pode revelar detalhes sobre a configuração do servidor, o que facilita ataques de reconhecimento e exploração de vulnerabilidades no servidor IIS.\\n\\n- Mitigação: \\n  - Remover ou substituir a página de boas-vindas padrão do IIS por uma página customizada.\\n  - Configurar corretamente o IIS para garantir que não sejam reveladas informações desnecessárias ao usuário final.\\n\\nOWASP Top 10: A05:2021-Security Misconfiguration\\n\\n',\n",
       " '5.3 (Média) CVSS 3.0 AV:N/AC:L/PR:N/UI:N/S:U/C:L/I:N/A:N\\n\\n\\n#3 Erro 500 no Diretório `/helpdesk`\\n\\n- Descrição: O diretório `/helpdesk` retorna um erro 500 (Internal Server Error), sugerindo que há falhas de configuração ou problemas no código.\\n\\n- Impacto: Erros internos podem ser explorados para realizar ataques como execução remota de código ou injeção de comandos, especialmente se o diretório contiver scripts vulneráveis.\\n\\n- Mitigação:\\n  - Revisar e corrigir o código e a configuração do diretório `/helpdesk`.\\n  - Implementar uma estratégia de **tratamento de erros** para evitar a exposição de detalhes internos ao público.\\n  - Garantir que a aplicação seja robusta contra injeção e outros tipos de ataques.\\n\\nOWASP Top 10: A01:2021-Broken Access Control\\n\\n',\n",
       " '7.5 (Alta) CVSS 3.0 AV:N/AC:L/PR:N/UI:N/S:U/C:H/I:H/A:N\\n\\n\\n#4 Falta de Cabeçalhos de Segurança HTTP\\n\\n- Descrição: O servidor não está configurado para enviar cabeçalhos de segurança recomendados, como Strict-Transport-Security (HSTS), X-Content-Type-Options, X-Frame-Options e Content-Security-Policy (CSP).\\n\\n- Impacto: A falta desses cabeçalhos expõe o servidor a uma variedade de ataques, como man-in-the-middle (MITM), clickjacking e cross-site scripting (XSS).\\n\\n- Mitigação:\\n  - Configurar e aplicar cabeçalhos de segurança apropriados:\\n    - Strict-Transport-Security (HSTS): Para garantir conexões HTTPS.\\n    - X-Content-Type-Options: Para evitar a execução de conteúdo de tipo incorreto.\\n    - X-Frame-Options: Para proteger contra clickjacking.\\n    - Content-Security-Policy (CSP): Para mitigar riscos de XSS e injeção de conteúdo malicioso.\\n\\nOWASP Top 10: A06:2021-Vulnerable and Outdated Components\\n\\n',\n",
       " '9.1 (Alta) CVSS 3.0 AV:N/AC:L/PR:N/UI:N/S:U/C:H/I:H/A:N\\n\\n\\n#5 Exposição de Subdomínios\\n\\n- Descrição: A análise DNS revelou vários subdomínios dentro do domínio prograd.ufc.br, expondo informações sobre a estrutura interna da rede.\\n\\n- Impacto: A exposição de subdomínios pode ser explorada por atacantes para realizar ataques direcionados a outros serviços ou sistemas internos.\\n\\n- Mitigação:\\n  - Utilizar técnicas de divulgação mínima para evitar expor subdomínios e endereços internos.\\n  - Configurar o DNS de forma a não expor informações sensíveis e implementar listas negras de DNS para prevenir vazamentos.\\n\\nOWASP Top 10: A08:2021-Software and Data Integrity Failures\\n\\n',\n",
       " '5.3 (Média) CVSS 3.0 AV:N/AC:L/PR:N/UI:N/S:U/C:L/I:N/A:N\\n\\n\\n\\nAções Prioritárias\\n\\n#1 Ocultar Informações de Versão e Tecnologia. Configurar o servidor para não expor informações sensíveis nos cabeçalhos HTTP, como o `Server` (que revela a versão do IIS) e o `X-Powered-By` (que revela o uso de ASP.NET).\\n   \\n#2 Remover ou Substituir a Página de Boas-Vindas Padrão do IIS por uma página personalizada ou por um arquivo de erro genérico, sem informações sobre o servidor.\\n\\n#3 Corrigir o Erro 500 no Diretório `/helpdesk`. Investigar e corrigir os erros internos no diretório `/helpdesk`, que estão gerando erros 500.\\n  \\n#4 Aplicar Cabeçalhos de Segurança HTTP: Configurar e aplicar cabeçalhos de segurança recomendados, como: Strict-Transport-Security (HSTS) para forçar conexões seguras; X-Content-Type-Options para evitar a execução de conteúdo com tipos incorretos; X-Frame-Options para evitar ataques de clickjacking; Content-Security-Policy (CSP) para evitar XSS e injeção de conteúdo malicioso.\\n\\n#5 Revisar Configuração e Tratamento de Erros no Servidor. Implementar um sistema robusto de tratamento de erros para evitar a exposição de detalhes sensíveis em mensagens de erro, como o erro 500.xplorar o sistema.\\n\\n#6 Reduzir a Exposição de Subdomínios. Minimizar a exposição de subdomínios através de medidas como segregação de redes, controle de acesso e revisão das configurações de DNS para evitar que informações sobre subdomínios internos sejam vazadas.\\n   \\n#7 Realizar Atualizações Regulares de Sistema e Aplicativos. Garantir que todos os sistemas e aplicativos (incluindo IIS e ASP.NET) estejam atualizados para suas versões mais recentes e seguras.']"
      ]
     },
     "execution_count": 15,
     "metadata": {},
     "output_type": "execute_result"
    }
   ],
   "source": [
    "# severity \n",
    "content.split('Severidade: ')"
   ]
  },
  {
   "cell_type": "code",
   "execution_count": 23,
   "id": "f0f74814",
   "metadata": {},
   "outputs": [],
   "source": [
    "def get_vulnerabilities(content):\n",
    "    vulnerabilities_formated = []\n",
    "    vulnerabilities_text = content.split('potenciais vulnerabilidades')[1].split('Ações Prioritárias')[0]\n",
    "    pattern = r\"#\\d+\\s\"\n",
    "    vulnerabilities_list = re.split(pattern, vulnerabilities_text)[1:]\n",
    "    for v in vulnerabilities_list:\n",
    "        name = v.split('\\n')[0].strip()\n",
    "        description = v.split('Descrição:')[1].split('\\n')[0].strip()\n",
    "        impact = v.split('Impacto:')[1].split('Mitigação:')[0].strip()\n",
    "        impact = impact.split('- ')\n",
    "        impact = [m.strip().replace('\\n','').replace('.-','.') for m in impact]\n",
    "        mitigation = v.split('Mitigação:')[1].split('OWASP Top 10:')[0].strip()\n",
    "        mitigation = mitigation.split('- ')[1:]\n",
    "        mitigation = [m.strip().replace('\\n','').replace('.-','.') for m in mitigation]\n",
    "        owasp = v.split('OWASP Top 10:')[1].split('\\n')[0].strip()\n",
    "        severity = v.split('Severidade:')[1].split()\n",
    "        severity = (float(severity[0]),severity[1].replace('(','').replace(')',''))\n",
    "        vulnerability_dict = {'nome':name, 'descrição':description, 'impacto': \n",
    "                              impact, 'mitigação': mitigation, 'owasp_top_10': owasp, \n",
    "                              'severidade_score':severity[0], 'severidade_tipo':severity[1]}\n",
    "        vulnerabilities_formated.append(vulnerability_dict)\n",
    "    return vulnerabilities_formated\n",
    "\n",
    "def get_actions(content):\n",
    "    actions = content.split('Ações Prioritárias')[1:]\n",
    "    actions = ' '.join(actions)\n",
    "    pattern = r\"#\\d+\\s\"\n",
    "    actions = re.split(pattern,actions)[1:]\n",
    "    actions = [a.replace('\\n','') for a in actions]\n",
    "    return actions\n"
   ]
  },
  {
   "cell_type": "code",
   "execution_count": 24,
   "id": "10926374",
   "metadata": {},
   "outputs": [
    {
     "name": "stdout",
     "output_type": "stream",
     "text": [
      "200.19.182.102.txt\n",
      "200.19.182.106.txt\n",
      "200.19.182.110.txt\n",
      "bdsrh.npd.ufc.br.txt\n",
      "cafe-eid.ufc.br.txt\n",
      "cafe-idp.ufc.br.txt\n",
      "dante.ufc.br.txt\n",
      "memoria.ufc.br.txt\n",
      "proxy.ufc.br.txt\n",
      "sadin.ufc.br.txt\n",
      "servicos.sti.ufc.br.txt\n",
      "si3.ufc.br.txt\n",
      "sistemas.prograd.ufc.br.txt\n",
      "www2.ufc.br.txt\n"
     ]
    }
   ],
   "source": [
    "dataset = {}\n",
    "for target in os.listdir(reports_dir):\n",
    "    print(target)\n",
    "    output_file = os.path.join(output_dir,target)\n",
    "    report_file = os.path.join(reports_dir,target)\n",
    "    \n",
    "    # read output\n",
    "    with open(output_file, 'r',encoding = 'utf-8') as file:\n",
    "        output = file.read()  # Read the entire content of the file\n",
    "    # read report\n",
    "    with open(report_file, 'r',encoding = 'utf-8') as file:\n",
    "        report = file.read()  # Read the entire content of the file\n",
    "        \n",
    "    dataset[target] = {}\n",
    "    dataset[target]['ações_prioritárias'] = get_actions(report)\n",
    "    dataset[target]['vulnerabilidades'] = get_vulnerabilities(report)\n",
    "    dataset[target]['exkalibur_output'] = output\n",
    "    \n"
   ]
  },
  {
   "cell_type": "code",
   "execution_count": 25,
   "id": "76b6df7e",
   "metadata": {},
   "outputs": [
    {
     "data": {
      "text/plain": [
       "[{'nome': 'Versão Desatualizada do Servidor Apache HTTP (2.2.22)',\n",
       "  'descrição': 'O servidor web utiliza uma versão obsoleta do Apache (2.2.22), que não recebe mais atualizações de segurança e pode conter vulnerabilidades conhecidas.',\n",
       "  'impacto': ['Ataques podem explorar falhas conhecidas nessa versão para comprometer o sistema, incluindo execução remota de código, negação de serviço (DoS) e escalonamento de privilégios-'],\n",
       "  'mitigação': ['Atualizar o Apache para a versão mais recente suportada. Se a migração para a versão 2.4 não for viável, aplicar patches de segurança disponibilizados por fornecedores externos.'],\n",
       "  'owasp_top_10': 'A06:2021-Vulnerable and Outdated Components',\n",
       "  'severidade_score': 7.5,\n",
       "  'severidade_tipo': 'Alta'},\n",
       " {'nome': 'Configuração Genérica do Servidor HTTP',\n",
       "  'descrição': 'O cabeçalho do servidor expõe informações detalhadas sobre a versão e o sistema operacional (Apache/2.2.22 (Debian)), o que facilita ataques direcionados.',\n",
       "  'impacto': ['Um atacante pode usar essas informações para identificar vulnerabilidades específicas no software e sistema operacional.'],\n",
       "  'mitigação': ['Configurar o servidor para ocultar ou minimizar informações nos cabeçalhos HTTP (ServerTokens Prod e ServerSignature Off).'],\n",
       "  'owasp_top_10': 'A01:2021-Broken Access Control',\n",
       "  'severidade_score': 5.3,\n",
       "  'severidade_tipo': 'Média'},\n",
       " {'nome': 'Porta 9102 Aberta com Serviço Indefinido (JetDirect?)',\n",
       "  'descrição': 'Porta aberta que parece estar associada a um serviço não documentado. Pode ser um vetor de ataque se o serviço não estiver protegido ou for desnecessário.',\n",
       "  'impacto': ['Ataques podem explorar a porta para acessar o serviço ou executar uma negação de serviço.'],\n",
       "  'mitigação': ['Realizar um inventário de serviços e desativar ou restringir o acesso a portas e serviços desnecessários. Monitorar logs para atividade suspeita.'],\n",
       "  'owasp_top_10': 'A09:2021-Security Logging and Monitoring Failures',\n",
       "  'severidade_score': 6.5,\n",
       "  'severidade_tipo': 'Média'},\n",
       " {'nome': 'Sistema Exposto Sem Proteção Contra Manutenção',\n",
       "  'descrição': 'O sistema expõe uma página indicando que está em manutenção, mas responde a requisições HTTP normais, permitindo coleta de informações e testes.',\n",
       "  'impacto': ['Um atacante pode mapear o sistema e identificar vulnerabilidades, mesmo durante períodos de manutenção.'],\n",
       "  'mitigação': ['Utilizar mecanismos de proteção durante a manutenção, como autenticação básica ou restrição de acesso por IP.'],\n",
       "  'owasp_top_10': 'A05:2021-Security Misconfiguration',\n",
       "  'severidade_score': 4.3,\n",
       "  'severidade_tipo': 'Baixa'}]"
      ]
     },
     "execution_count": 25,
     "metadata": {},
     "output_type": "execute_result"
    }
   ],
   "source": [
    "dataset[target]['vulnerabilidades'] "
   ]
  },
  {
   "cell_type": "code",
   "execution_count": 27,
   "id": "4892644d",
   "metadata": {},
   "outputs": [],
   "source": [
    "output_json_file = \"data/dataset.json\"\n",
    "\n",
    "with open(output_json_file, 'w', encoding='utf-8') as json_file:\n",
    "    json.dump(dataset, json_file, ensure_ascii=False, indent=4)"
   ]
  },
  {
   "cell_type": "code",
   "execution_count": null,
   "id": "3af3eea4",
   "metadata": {},
   "outputs": [],
   "source": []
  },
  {
   "cell_type": "code",
   "execution_count": null,
   "id": "717998f7",
   "metadata": {},
   "outputs": [],
   "source": []
  }
 ],
 "metadata": {
  "kernelspec": {
   "display_name": "aicid",
   "language": "python",
   "name": "python3"
  },
  "language_info": {
   "codemirror_mode": {
    "name": "ipython",
    "version": 3
   },
   "file_extension": ".py",
   "mimetype": "text/x-python",
   "name": "python",
   "nbconvert_exporter": "python",
   "pygments_lexer": "ipython3",
   "version": "3.10.9"
  }
 },
 "nbformat": 4,
 "nbformat_minor": 5
}
